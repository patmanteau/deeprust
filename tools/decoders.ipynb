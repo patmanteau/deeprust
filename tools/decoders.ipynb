{
 "cells": [
  {
   "cell_type": "code",
   "execution_count": 2,
   "metadata": {},
   "outputs": [],
   "source": [
    "def decode_square(square):\n",
    "    file = square & 0x7\n",
    "    rank = square >> 3\n",
    "    filestr = {\n",
    "        0: \"a\",\n",
    "        1: \"b\",\n",
    "        2: \"c\",\n",
    "        3: \"d\",\n",
    "        4: \"e\",\n",
    "        5: \"f\",\n",
    "        6: \"g\",\n",
    "        7: \"h\"\n",
    "    }[file]\n",
    "    rankstr = {\n",
    "        0: \"1\",\n",
    "        1: \"2\",\n",
    "        2: \"3\",\n",
    "        3: \"4\",\n",
    "        4: \"5\",\n",
    "        5: \"6\",\n",
    "        6: \"7\",\n",
    "        7: \"8\"\n",
    "    }[rank]\n",
    "    return \"{}{}\".format(filestr, rankstr)\n",
    "\n",
    "def decode_move(move):\n",
    "    orig = (move >> 10) & 0x3f\n",
    "    dest = move & 0x3f\n",
    "    flags = (move >> 6) & 0xf\n",
    "    \n",
    "    flagstr = {\n",
    "        0: \"quiet\",\n",
    "        1: \"double pawn push\",\n",
    "        2: \"king castle\",\n",
    "        3: \"queen castle\",\n",
    "        4: \"capture\",\n",
    "        5: \"capture en passant\",\n",
    "        6: \"reserved\",\n",
    "        7: \"reserved\",\n",
    "        8: \"promotion to knight\",\n",
    "        9: \"promotion to bishop\",\n",
    "        10: \"promotion to rook\",\n",
    "        11: \"promotion to queen\",\n",
    "        12: \"capture to promotion to knight\",\n",
    "        13: \"capture to promotion to bishop\",\n",
    "        14: \"capture to promotion to rook\",\n",
    "        15: \"capture to promotion to queen\"\n",
    "    }[flags]\n",
    "    \n",
    "    print(\"from: {} to: {} type: {}\".format(decode_square(orig), decode_square(dest), flagstr))\n",
    "\n",
    "def decode_unmake_info(info):\n",
    "    cap_piece = info & 7\n",
    "    cap_color = (info >> 3) & 1\n",
    "    castling = (info >> 4) & 0xf\n",
    "    ep_square = (info >> 8) & 0x3f\n",
    "    ep_avail = (info >> 14) & 1\n",
    "    halfmoves = (info >> 15) & 0x1ffff\n",
    "    \n",
    "    print(\"cap_piece: {}, cap_color: {}, castling: {}, ep_square: {}, ep_avail: {}, halfmoves: {}\".format(\n",
    "         cap_piece, cap_color, castling, decode_square(ep_square), ep_avail, halfmoves))"
   ]
  },
  {
   "cell_type": "code",
   "execution_count": 3,
   "metadata": {},
   "outputs": [
    {
     "name": "stdout",
     "output_type": "stream",
     "text": [
      "from: e5 to: g6 type: capture\n",
      "cap_piece: 2, cap_color: 1, castling: 15, ep_square: a1, ep_avail: 0, halfmoves: 0\n"
     ]
    }
   ],
   "source": [
    "decode_move(37166)\n",
    "decode_unmake_info(250)"
   ]
  },
  {
   "cell_type": "code",
   "execution_count": 4,
   "metadata": {},
   "outputs": [
    {
     "name": "stdout",
     "output_type": "stream",
     "text": [
      "from: b4 to: b3 type: quiet\n",
      "cap_piece: 0, cap_color: 0, castling: 15, ep_square: a1, ep_avail: 0, halfmoves: 0\n"
     ]
    }
   ],
   "source": [
    "decode_move(25617)\n",
    "decode_unmake_info(240)"
   ]
  },
  {
   "cell_type": "code",
   "execution_count": 24,
   "metadata": {
    "scrolled": true
   },
   "outputs": [
    {
     "name": "stdout",
     "output_type": "stream",
     "text": [
      "from: g6 to: h8 type: capture\n",
      "from: g6 to: f4 type: quiet\n",
      "from: d5 to: e6 type: capture\n",
      "from: e5 to: d7 type: capture\n"
     ]
    }
   ],
   "source": [
    "decode_move(47423)\n",
    "decode_move(47133)\n",
    "decode_move(36140)\n",
    "decode_move(37171)"
   ]
  },
  {
   "cell_type": "code",
   "execution_count": 6,
   "metadata": {},
   "outputs": [
    {
     "name": "stdout",
     "output_type": "stream",
     "text": [
      "from: a2 to: a3 type: quiet\n",
      "cap_piece: 0, cap_color: 0, castling: 15, ep_square: a1, ep_avail: 0, halfmoves: 0\n",
      "from: h8 to: h6 type: quiet\n",
      "cap_piece: 0, cap_color: 0, castling: 15, ep_square: a1, ep_avail: 0, halfmoves: 0\n",
      "from: e5 to: g6 type: capture\n",
      "cap_piece: 2, cap_color: 1, castling: 11, ep_square: a1, ep_avail: 0, halfmoves: 1\n"
     ]
    }
   ],
   "source": [
    "decode_move(8208)\n",
    "decode_unmake_info(240)\n",
    "decode_move(64559)\n",
    "decode_unmake_info(240)\n",
    "decode_move(37166)\n",
    "decode_unmake_info(32954)"
   ]
  },
  {
   "cell_type": "code",
   "execution_count": 40,
   "metadata": {},
   "outputs": [
    {
     "data": {
      "text/plain": [
       "'1111110100110101'"
      ]
     },
     "execution_count": 40,
     "metadata": {},
     "output_type": "execute_result"
    }
   ],
   "source": [
    "\"{0:b}\".format(64821)"
   ]
  },
  {
   "cell_type": "code",
   "execution_count": 25,
   "metadata": {},
   "outputs": [
    {
     "name": "stdout",
     "output_type": "stream",
     "text": [
      "from: a2 to: a3 type: quiet\n",
      "cap_piece: 0, cap_color: 0, castling: 3, ep_square: a1, ep_avail: 0, halfmoves: 1\n",
      "from: f2 to: d3 type: quiet\n"
     ]
    }
   ],
   "source": [
    "decode_move(8208)\n",
    "decode_unmake_info(32816)\n",
    "decode_move(13331)"
   ]
  },
  {
   "cell_type": "code",
   "execution_count": null,
   "metadata": {},
   "outputs": [],
   "source": []
  }
 ],
 "metadata": {
  "kernelspec": {
   "display_name": "Python 3",
   "language": "python",
   "name": "python3"
  },
  "language_info": {
   "codemirror_mode": {
    "name": "ipython",
    "version": 3
   },
   "file_extension": ".py",
   "mimetype": "text/x-python",
   "name": "python",
   "nbconvert_exporter": "python",
   "pygments_lexer": "ipython3",
   "version": "3.6.3"
  }
 },
 "nbformat": 4,
 "nbformat_minor": 2
}
